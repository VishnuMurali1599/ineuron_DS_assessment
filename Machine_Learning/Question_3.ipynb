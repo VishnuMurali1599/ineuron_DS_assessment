{
  "nbformat": 4,
  "nbformat_minor": 0,
  "metadata": {
    "colab": {
      "provenance": []
    },
    "kernelspec": {
      "name": "python3",
      "display_name": "Python 3"
    },
    "language_info": {
      "name": "python"
    }
  },
  "cells": [
    {
      "cell_type": "code",
      "execution_count": null,
      "metadata": {
        "id": "wDN-Hm4PQJ0k"
      },
      "outputs": [],
      "source": [
        "from sklearn.datasets import load_wine\n",
        "from sklearn.model_selection import train_test_split, RandomizedSearchCV, ShuffleSplit\n",
        "from sklearn.tree import DecisionTreeClassifier\n",
        "from sklearn.ensemble import RandomForestClassifier\n",
        "from scipy.stats import randint\n",
        "\n",
        "# Step 1: Load the wine dataset\n",
        "wine_data = load_wine()\n",
        "X, y = wine_data.data, wine_data.target\n",
        "\n",
        "# Step 2: Split the dataset into train and test\n",
        "X_train, X_test, y_train, y_test = train_test_split(X, y, test_size=0.2, random_state=42)\n",
        "\n",
        "# Step 3: Hyperparameter tuning using RandomizedSearchCV\n",
        "param_dist = {\n",
        "    'criterion': ['gini', 'entropy'],\n",
        "    'splitter': ['best', 'random'],\n",
        "    'max_depth': randint(1, 20),\n",
        "    'min_samples_split': randint(2, 20),\n",
        "    'min_samples_leaf': randint(1, 20),\n",
        "    'max_features': ['auto', 'sqrt', 'log2', None]\n",
        "}\n",
        "\n",
        "tree_classifier = DecisionTreeClassifier(random_state=42)\n",
        "random_search = RandomizedSearchCV(tree_classifier, param_distributions=param_dist, n_iter=100, cv=5, random_state=42, n_jobs=-1)\n",
        "\n",
        "random_search.fit(X_train, y_train)\n",
        "\n",
        "# Print the best hyperparameters\n",
        "print(\"Best Hyperparameters:\", random_search.best_params_)\n",
        "\n",
        "# Step 4: Evaluate the tuned Decision Tree\n",
        "best_tree = random_search.best_estimator_\n",
        "accuracy_on_test_set = best_tree.score(X_test, y_test) * 100\n",
        "\n",
        "print(f\"Accuracy on the test set: {accuracy_on_test_set:.2f}%\")\n",
        "\n",
        "# Now, let's move on to building the Random Forest\n",
        "\n",
        "# Step 1: Create 10 subsets of the training dataset using ShuffleSplit\n",
        "cv = ShuffleSplit(n_splits=10, test_size=0.2, random_state=42)\n",
        "\n",
        "# Step 2: Train 10 decision trees on each subset using the best hyperparameter values\n",
        "forest = RandomForestClassifier(**random_search.best_params_, n_estimators=10, random_state=42)\n",
        "\n",
        "# Fit the Random Forest on the entire training set\n",
        "forest.fit(X_train, y_train)\n",
        "\n",
        "# Step 3: Evaluate all the trees on the test dataset\n",
        "accuracy_on_test_set_forest = forest.score(X_test, y_test) * 100\n",
        "\n",
        "print(f\"Accuracy on the test set using Random Forest: {accuracy_on_test_set_forest:.2f}%\")\n"
      ]
    },
    {
      "cell_type": "code",
      "source": [
        "from sklearn.datasets import load_wine\n",
        "from sklearn.model_selection import train_test_split, RandomizedSearchCV, ShuffleSplit\n",
        "from sklearn.tree import DecisionTreeClassifier\n",
        "from sklearn.ensemble import RandomForestClassifier\n",
        "from scipy.stats import randint"
      ],
      "metadata": {
        "id": "K4Hn55KqQnTM"
      },
      "execution_count": 1,
      "outputs": []
    },
    {
      "cell_type": "code",
      "source": [
        "wine_data = load_wine()\n",
        "X, y = wine_data.data, wine_data.target\n",
        "\n",
        "X_train, X_test, y_train, y_test = train_test_split(X, y, test_size=0.2, random_state=42)"
      ],
      "metadata": {
        "id": "xZtzOOaTQnQ1"
      },
      "execution_count": 5,
      "outputs": []
    },
    {
      "cell_type": "code",
      "source": [
        "param_dist = {\n",
        "    'criterion': ['gini', 'entropy'],\n",
        "    'splitter': ['best', 'random'],\n",
        "    'max_depth': randint(1, 20),\n",
        "    'min_samples_split': randint(2, 20),\n",
        "    'min_samples_leaf': randint(1, 20),\n",
        "    'max_features': ['auto', 'sqrt', 'log2', None]\n",
        "}\n"
      ],
      "metadata": {
        "id": "EqlataDAQrYw"
      },
      "execution_count": 6,
      "outputs": []
    },
    {
      "cell_type": "code",
      "source": [
        "tree_classifier = DecisionTreeClassifier(random_state=42)\n",
        "random_search = RandomizedSearchCV(tree_classifier, param_distributions=param_dist, n_iter=100, cv=5, random_state=42, n_jobs=-1)\n",
        "\n",
        "random_search.fit(X_train, y_train)\n",
        "\n",
        "# Print the best hyperparameters\n",
        "print(\"Best Hyperparameters:\", random_search.best_params_)"
      ],
      "metadata": {
        "colab": {
          "base_uri": "https://localhost:8080/"
        },
        "id": "_3sOhX01Qup3",
        "outputId": "aa0d35d1-300d-4310-f55a-f0f685343a85"
      },
      "execution_count": 8,
      "outputs": [
        {
          "output_type": "stream",
          "name": "stdout",
          "text": [
            "Best Hyperparameters: {'criterion': 'gini', 'max_depth': 6, 'max_features': None, 'min_samples_leaf': 3, 'min_samples_split': 5, 'splitter': 'best'}\n"
          ]
        }
      ]
    },
    {
      "cell_type": "code",
      "source": [
        "best_tree = random_search.best_estimator_\n",
        "accuracy_on_test_set = best_tree.score(X_test, y_test) * 100\n",
        "\n",
        "print(f\"Accuracy on the test set: {accuracy_on_test_set:.2f}%\")"
      ],
      "metadata": {
        "colab": {
          "base_uri": "https://localhost:8080/"
        },
        "id": "g302rFCQQ2e3",
        "outputId": "5e5323fd-d94d-4752-b039-932f96240dea"
      },
      "execution_count": 16,
      "outputs": [
        {
          "output_type": "stream",
          "name": "stdout",
          "text": [
            "Accuracy on the test set: 94.44%\n"
          ]
        }
      ]
    },
    {
      "cell_type": "code",
      "source": [],
      "metadata": {
        "id": "e1PHMGOMRIQH"
      },
      "execution_count": null,
      "outputs": []
    }
  ]
}