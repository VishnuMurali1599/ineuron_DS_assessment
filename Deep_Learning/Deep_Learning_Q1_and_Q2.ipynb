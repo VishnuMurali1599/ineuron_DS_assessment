{
  "nbformat": 4,
  "nbformat_minor": 0,
  "metadata": {
    "colab": {
      "provenance": []
    },
    "kernelspec": {
      "name": "python3",
      "display_name": "Python 3"
    },
    "language_info": {
      "name": "python"
    }
  },
  "cells": [
    {
      "cell_type": "code",
      "execution_count": 1,
      "metadata": {
        "id": "iGs7TUHRSeYr"
      },
      "outputs": [],
      "source": [
        "## Question 1\n",
        "## a"
      ]
    },
    {
      "cell_type": "markdown",
      "source": [
        "Deep Learning (DL) has found practical applications in various domains due to its ability to model complex relationships and patterns in large datasets."
      ],
      "metadata": {
        "id": "EjS6Z6u_S69j"
      }
    },
    {
      "cell_type": "markdown",
      "source": [
        "Examples of real-world applications of deep learning include image and speech recognition, natural language processing,\n",
        " autonomous vehicles, healthcare diagnostics, and many others. The success of deep learning in practical applications\n",
        " often requires a multidisciplinary approach involving domain knowledge, data expertise, and machine learning skills"
      ],
      "metadata": {
        "id": "7-93B91pTEuk"
      }
    },
    {
      "cell_type": "markdown",
      "source": [
        "Deep learning has gained significant popularity and prominence for several reasons:\n",
        "\n",
        "Feature Learning:\n",
        "\n",
        "Deep learning algorithms automatically learn hierarchical representations or features from raw data, eliminating the need for manual feature engineering. This ability allows deep learning models to capture intricate patterns and relationships in complex datasets.\n",
        "Performance on Large Datasets:\n",
        "\n",
        "Deep learning models thrive on large amounts of labeled data. They have shown remarkable performance improvements as the size of datasets has increased. This scalability makes deep learning well-suited for applications with abundant data, such as image and speech recognition.\n",
        "Complex Task Handling:\n",
        "\n",
        "Deep learning excels in solving complex tasks that involve high-dimensional data, non-linear relationships, and intricate patterns. Tasks like image and speech recognition, natural language processing, and game playing have seen substantial advancements through deep learning approaches.\n",
        "Advancements in Hardware:\n",
        "\n",
        "The availability of powerful graphics processing units (GPUs) and specialized hardware accelerators (e.g., TPUs) has significantly accelerated the training of deep neural networks. This has made it feasible to train larger and more complex models in a reasonable amount of time.\n",
        "Transfer Learning:\n",
        "\n",
        "Transfer learning allows pre-trained models on large datasets to be fine-tuned for specific tasks with limited data. This approach is particularly valuable when dealing with applications that lack extensive labeled data.\n",
        "Availability of Frameworks:\n",
        "\n",
        "Open-source deep learning frameworks like TensorFlow and PyTorch have democratized access to advanced neural network architectures. These frameworks simplify the implementation and training of complex models, making deep learning accessible to a broader audience.\n",
        "Success in Image and Speech Recognition:\n",
        "\n",
        "Deep learning has achieved remarkable success in image and speech recognition tasks, outperforming traditional approaches and setting new benchmarks. Applications like facial recognition, object detection, and voice assistants have become integral parts of various technologies.\n",
        "Natural Language Processing Breakthroughs:\n",
        "\n",
        "Deep learning has led to breakthroughs in natural language processing (NLP), enabling advancements in machine translation, sentiment analysis, chatbots, and language generation. Models like Transformer have revolutionized the field.\n",
        "Autonomous Systems:\n",
        "\n",
        "Deep learning plays a crucial role in the development of autonomous systems, including self-driving cars and drones. The ability to process and understand complex sensory inputs contributes to the success of these systems.\n",
        "Research Community and Industry Investment:\n",
        "\n",
        "The active research community and significant investments from industry giants in deep learning research have fueled continuous advancements. Breakthroughs in model architectures, optimization techniques, and training methodologies regularly contribute to the field's progress.\n"
      ],
      "metadata": {
        "id": "0r1CvquiTObN"
      }
    },
    {
      "cell_type": "code",
      "source": [
        "## b"
      ],
      "metadata": {
        "id": "dTZceXKETUru"
      },
      "execution_count": 2,
      "outputs": []
    },
    {
      "cell_type": "markdown",
      "source": [
        "Activation functions are really important for a Artificial Neural Network to learn and make sense of something really complicated and Non-linear complex functional mappings between the inputs and response variable.They introduce non-linear properties. Their main purpose is to convert a input signal of a node in a A-NN to an output signal.\n",
        "\n",
        "If we do not apply a Activation function then the output signal would simply be a simple linear function.A linear function is just a polynomial of one degree. a linear equation is easy to solve but they are limited in their complexity and have less power to learn complex functional mappings from data. A Neural Network without Activation function would simply be a Linear regression Model, which has limited power and does not perform good most of the times."
      ],
      "metadata": {
        "id": "DKpa8w0-T-Wy"
      }
    },
    {
      "cell_type": "markdown",
      "source": [
        "If no activation function is used in the hidden layers of a neural network, then the network would essentially reduce to a linear model. This is because without an activation function, the output of each layer would be a simple linear combination of the inputs. As a result, the network would not be able to learn complex, nonlinear patterns in the data, which is one of the key advantages of using neural networks. Activation functions introduce nonlinearity, allowing neural networks to model and learn more complex relationships in the data. Therefore, the use of activation functions in hidden layers is crucial for the effectiveness of neural networks."
      ],
      "metadata": {
        "id": "Bgv8Re2RUCFy"
      }
    },
    {
      "cell_type": "markdown",
      "source": [
        "\n",
        "Activation functions play a crucial role in artificial neural networks (ANNs) by introducing non-linearities to the model. The primary purpose of activation functions is to determine the output of a neuron and, consequently, the overall network output. Here are the key uses of activation functions in ANNs:\n",
        "\n",
        "Introducing Non-linearity:\n",
        "\n",
        "Activation functions introduce non-linearities to the network, allowing it to learn complex patterns and relationships in the data. Without non-linear activation functions, the entire network would behave like a linear model, limiting its expressive power and reducing its ability to model intricate data.\n",
        "Enabling Complex Representations:\n",
        "\n",
        "Non-linear activation functions enable the network to learn and represent complex mappings from inputs to outputs. This is crucial for tasks where the relationships between features are not simple or linear.\n",
        "Supporting Stacking of Layers:\n",
        "\n",
        "Neural networks are often composed of multiple layers. Without non-linear activation functions, stacking layers would not increase the network's capacity to learn complex functions. Each additional layer would only contribute a linear transformation.\n",
        "Handling Variability and Learning Features:\n",
        "\n",
        "Activation functions allow the network to learn and adapt to various patterns and features present in the data. Different activation functions are suitable for different tasks, and their non-linear properties help capture diverse patterns.\n",
        "Commonly used activation functions include:\n",
        "\n",
        "- Sigmoid (Logistic): Scales the output between 0 and 1, suitable for binary classification tasks.\n",
        "- Hyperbolic Tangent (tanh): Scales the output between -1 and 1, often used in hidden layers.\n",
        "- Rectified Linear Unit (ReLU): Replaces negative values with zero, commonly used in hidden layers due to its simplicity and efficiency.\n",
        "- Leaky ReLU: Similar to ReLU but allows a small gradient for negative inputs, addressing the \"dying ReLU\" problem.\n",
        "- Softmax: Converts a vector of raw scores into probabilities, often used in the output layer for multi-class classification tasks."
      ],
      "metadata": {
        "id": "qnKdBfhWUHsq"
      }
    },
    {
      "cell_type": "code",
      "source": [],
      "metadata": {
        "id": "NOUI4GjoTjkP"
      },
      "execution_count": null,
      "outputs": []
    },
    {
      "cell_type": "code",
      "source": [
        "## Question 2"
      ],
      "metadata": {
        "id": "jh3-SsDeUb4B"
      },
      "execution_count": 3,
      "outputs": []
    },
    {
      "cell_type": "markdown",
      "source": [
        "## `MNIST Classification `"
      ],
      "metadata": {
        "id": "wT0dQ10zVC5q"
      }
    },
    {
      "cell_type": "code",
      "source": [
        "import tensorflow\n",
        "from tensorflow import keras\n",
        "from tensorflow.keras import Sequential\n",
        "from tensorflow.keras.layers import Dense,Flatten"
      ],
      "metadata": {
        "id": "9doyQ9JYU4TO"
      },
      "execution_count": 4,
      "outputs": []
    },
    {
      "cell_type": "code",
      "source": [
        "(X_train,y_train),(X_test,y_test) = keras.datasets.mnist.load_data()"
      ],
      "metadata": {
        "colab": {
          "base_uri": "https://localhost:8080/"
        },
        "id": "8jnl4s9-VHVO",
        "outputId": "f786f0d1-013f-4af2-a1d7-f508437e93d0"
      },
      "execution_count": 5,
      "outputs": [
        {
          "output_type": "stream",
          "name": "stdout",
          "text": [
            "Downloading data from https://storage.googleapis.com/tensorflow/tf-keras-datasets/mnist.npz\n",
            "11490434/11490434 [==============================] - 0s 0us/step\n"
          ]
        }
      ]
    },
    {
      "cell_type": "code",
      "source": [
        "X_test.shape"
      ],
      "metadata": {
        "colab": {
          "base_uri": "https://localhost:8080/"
        },
        "id": "pfFdb8PHVJed",
        "outputId": "ff56f3df-28cd-4617-c670-831171028a40"
      },
      "execution_count": 6,
      "outputs": [
        {
          "output_type": "execute_result",
          "data": {
            "text/plain": [
              "(10000, 28, 28)"
            ]
          },
          "metadata": {},
          "execution_count": 6
        }
      ]
    },
    {
      "cell_type": "code",
      "source": [
        "y_train"
      ],
      "metadata": {
        "colab": {
          "base_uri": "https://localhost:8080/"
        },
        "id": "bBSa8-hQVLQ-",
        "outputId": "afb27ecf-c0f8-455a-db82-f5ce6cd73683"
      },
      "execution_count": 7,
      "outputs": [
        {
          "output_type": "execute_result",
          "data": {
            "text/plain": [
              "array([5, 0, 4, ..., 5, 6, 8], dtype=uint8)"
            ]
          },
          "metadata": {},
          "execution_count": 7
        }
      ]
    },
    {
      "cell_type": "code",
      "source": [
        "import matplotlib.pyplot as plt\n",
        "plt.imshow(X_train[2])"
      ],
      "metadata": {
        "colab": {
          "base_uri": "https://localhost:8080/",
          "height": 447
        },
        "id": "lMKtDom0VPdl",
        "outputId": "070d32f7-ea38-41b4-c14e-92336acd219b"
      },
      "execution_count": 8,
      "outputs": [
        {
          "output_type": "execute_result",
          "data": {
            "text/plain": [
              "<matplotlib.image.AxesImage at 0x7f8ef34979d0>"
            ]
          },
          "metadata": {},
          "execution_count": 8
        },
        {
          "output_type": "display_data",
          "data": {
            "text/plain": [
              "<Figure size 640x480 with 1 Axes>"
            ],
            "image/png": "[encoded data removed]"
          },
          "metadata": {}
        }
      ]
    },
    {
      "cell_type": "code",
      "source": [
        "X_train = X_train/255\n",
        "X_test = X_test/255 ## Normalizing the data"
      ],
      "metadata": {
        "id": "aFfC2buuVRaV"
      },
      "execution_count": 9,
      "outputs": []
    },
    {
      "cell_type": "code",
      "source": [
        "X_train[0]"
      ],
      "metadata": {
        "colab": {
          "base_uri": "https://localhost:8080/"
        },
        "id": "I8tieIaRVZmt",
        "outputId": "bfbdf345-23e6-4219-882d-384f6af9c769"
      },
      "execution_count": 10,
      "outputs": [
        {
          "output_type": "execute_result",
          "data": {
            "text/plain": [
              "array([[0.        , 0.        , 0.        , 0.        , 0.        ,\n",
              "        0.        , 0.        , 0.        , 0.        , 0.        ,\n",
              "        0.        , 0.        , 0.        , 0.        , 0.        ,\n",
              "        0.        , 0.        , 0.        , 0.        , 0.        ,\n",
              "        0.        , 0.        , 0.        , 0.        , 0.        ,\n",
              "        0.        , 0.        , 0.        ],\n",
              "       [0.        , 0.        , 0.        , 0.        , 0.        ,\n",
              "        0.        , 0.        , 0.        , 0.        , 0.        ,\n",
              "        0.        , 0.        , 0.        , 0.        , 0.        ,\n",
              "        0.        , 0.        , 0.        , 0.        , 0.        ,\n",
              "        0.        , 0.        , 0.        , 0.        , 0.        ,\n",
              "        0.        , 0.        , 0.        ],\n",
              "       [0.        , 0.        , 0.        , 0.        , 0.        ,\n",
              "        0.        , 0.        , 0.        , 0.        , 0.        ,\n",
              "        0.        , 0.        , 0.        , 0.        , 0.        ,\n",
              "        0.        , 0.        , 0.        , 0.        , 0.        ,\n",
              "        0.        , 0.        , 0.        , 0.        , 0.        ,\n",
              "        0.        , 0.        , 0.        ],\n",
              "       [0.        , 0.        , 0.        , 0.        , 0.        ,\n",
              "        0.        , 0.        , 0.        , 0.        , 0.        ,\n",
              "        0.        , 0.        , 0.        , 0.        , 0.        ,\n",
              "        0.        , 0.        , 0.        , 0.        , 0.        ,\n",
              "        0.        , 0.        , 0.        , 0.        , 0.        ,\n",
              "        0.        , 0.        , 0.        ],\n",
              "       [0.        , 0.        , 0.        , 0.        , 0.        ,\n",
              "        0.        , 0.        , 0.        , 0.        , 0.        ,\n",
              "        0.        , 0.        , 0.        , 0.        , 0.        ,\n",
              "        0.        , 0.        , 0.        , 0.        , 0.        ,\n",
              "        0.        , 0.        , 0.        , 0.        , 0.        ,\n",
              "        0.        , 0.        , 0.        ],\n",
              "       [0.        , 0.        , 0.        , 0.        , 0.        ,\n",
              "        0.        , 0.        , 0.        , 0.        , 0.        ,\n",
              "        0.        , 0.        , 0.01176471, 0.07058824, 0.07058824,\n",
              "        0.07058824, 0.49411765, 0.53333333, 0.68627451, 0.10196078,\n",
              "        0.65098039, 1.        , 0.96862745, 0.49803922, 0.        ,\n",
              "        0.        , 0.        , 0.        ],\n",
              "       [0.        , 0.        , 0.        , 0.        , 0.        ,\n",
              "        0.        , 0.        , 0.        , 0.11764706, 0.14117647,\n",
              "        0.36862745, 0.60392157, 0.66666667, 0.99215686, 0.99215686,\n",
              "        0.99215686, 0.99215686, 0.99215686, 0.88235294, 0.6745098 ,\n",
              "        0.99215686, 0.94901961, 0.76470588, 0.25098039, 0.        ,\n",
              "        0.        , 0.        , 0.        ],\n",
              "       [0.        , 0.        , 0.        , 0.        , 0.        ,\n",
              "        0.        , 0.        , 0.19215686, 0.93333333, 0.99215686,\n",
              "        0.99215686, 0.99215686, 0.99215686, 0.99215686, 0.99215686,\n",
              "        0.99215686, 0.99215686, 0.98431373, 0.36470588, 0.32156863,\n",
              "        0.32156863, 0.21960784, 0.15294118, 0.        , 0.        ,\n",
              "        0.        , 0.        , 0.        ],\n",
              "       [0.        , 0.        , 0.        , 0.        , 0.        ,\n",
              "        0.        , 0.        , 0.07058824, 0.85882353, 0.99215686,\n",
              "        0.99215686, 0.99215686, 0.99215686, 0.99215686, 0.77647059,\n",
              "        0.71372549, 0.96862745, 0.94509804, 0.        , 0.        ,\n",
              "        0.        , 0.        , 0.        , 0.        , 0.        ,\n",
              "        0.        , 0.        , 0.        ],\n",
              "       [0.        , 0.        , 0.        , 0.        , 0.        ,\n",
              "        0.        , 0.        , 0.        , 0.31372549, 0.61176471,\n",
              "        0.41960784, 0.99215686, 0.99215686, 0.80392157, 0.04313725,\n",
              "        0.        , 0.16862745, 0.60392157, 0.        , 0.        ,\n",
              "        0.        , 0.        , 0.        , 0.        , 0.        ,\n",
              "        0.        , 0.        , 0.        ],\n",
              "       [0.        , 0.        , 0.        , 0.        , 0.        ,\n",
              "        0.        , 0.        , 0.        , 0.        , 0.05490196,\n",
              "        0.00392157, 0.60392157, 0.99215686, 0.35294118, 0.        ,\n",
              "        0.        , 0.        , 0.        , 0.        , 0.        ,\n",
              "        0.        , 0.        , 0.        , 0.        , 0.        ,\n",
              "        0.        , 0.        , 0.        ],\n",
              "       [0.        , 0.        , 0.        , 0.        , 0.        ,\n",
              "        0.        , 0.        , 0.        , 0.        , 0.        ,\n",
              "        0.        , 0.54509804, 0.99215686, 0.74509804, 0.00784314,\n",
              "        0.        , 0.        , 0.        , 0.        , 0.        ,\n",
              "        0.        , 0.        , 0.        , 0.        , 0.        ,\n",
              "        0.        , 0.        , 0.        ],\n",
              "       [0.        , 0.        , 0.        , 0.        , 0.        ,\n",
              "        0.        , 0.        , 0.        , 0.        , 0.        ,\n",
              "        0.        , 0.04313725, 0.74509804, 0.99215686, 0.2745098 ,\n",
              "        0.        , 0.        , 0.        , 0.        , 0.        ,\n",
              "        0.        , 0.        , 0.        , 0.        , 0.        ,\n",
              "        0.        , 0.        , 0.        ],\n",
              "       [0.        , 0.        , 0.        , 0.        , 0.        ,\n",
              "        0.        , 0.        , 0.        , 0.        , 0.        ,\n",
              "        0.        , 0.        , 0.1372549 , 0.94509804, 0.88235294,\n",
              "        0.62745098, 0.42352941, 0.00392157, 0.        , 0.        ,\n",
              "        0.        , 0.        , 0.        , 0.        , 0.        ,\n",
              "        0.        , 0.        , 0.        ],\n",
              "       [0.        , 0.        , 0.        , 0.        , 0.        ,\n",
              "        0.        , 0.        , 0.        , 0.        , 0.        ,\n",
              "        0.        , 0.        , 0.        , 0.31764706, 0.94117647,\n",
              "        0.99215686, 0.99215686, 0.46666667, 0.09803922, 0.        ,\n",
              "        0.        , 0.        , 0.        , 0.        , 0.        ,\n",
              "        0.        , 0.        , 0.        ],\n",
              "       [0.        , 0.        , 0.        , 0.        , 0.        ,\n",
              "        0.        , 0.        , 0.        , 0.        , 0.        ,\n",
              "        0.        , 0.        , 0.        , 0.        , 0.17647059,\n",
              "        0.72941176, 0.99215686, 0.99215686, 0.58823529, 0.10588235,\n",
              "        0.        , 0.        , 0.        , 0.        , 0.        ,\n",
              "        0.        , 0.        , 0.        ],\n",
              "       [0.        , 0.        , 0.        , 0.        , 0.        ,\n",
              "        0.        , 0.        , 0.        , 0.        , 0.        ,\n",
              "        0.        , 0.        , 0.        , 0.        , 0.        ,\n",
              "        0.0627451 , 0.36470588, 0.98823529, 0.99215686, 0.73333333,\n",
              "        0.        , 0.        , 0.        , 0.        , 0.        ,\n",
              "        0.        , 0.        , 0.        ],\n",
              "       [0.        , 0.        , 0.        , 0.        , 0.        ,\n",
              "        0.        , 0.        , 0.        , 0.        , 0.        ,\n",
              "        0.        , 0.        , 0.        , 0.        , 0.        ,\n",
              "        0.        , 0.        , 0.97647059, 0.99215686, 0.97647059,\n",
              "        0.25098039, 0.        , 0.        , 0.        , 0.        ,\n",
              "        0.        , 0.        , 0.        ],\n",
              "       [0.        , 0.        , 0.        , 0.        , 0.        ,\n",
              "        0.        , 0.        , 0.        , 0.        , 0.        ,\n",
              "        0.        , 0.        , 0.        , 0.        , 0.18039216,\n",
              "        0.50980392, 0.71764706, 0.99215686, 0.99215686, 0.81176471,\n",
              "        0.00784314, 0.        , 0.        , 0.        , 0.        ,\n",
              "        0.        , 0.        , 0.        ],\n",
              "       [0.        , 0.        , 0.        , 0.        , 0.        ,\n",
              "        0.        , 0.        , 0.        , 0.        , 0.        ,\n",
              "        0.        , 0.        , 0.15294118, 0.58039216, 0.89803922,\n",
              "        0.99215686, 0.99215686, 0.99215686, 0.98039216, 0.71372549,\n",
              "        0.        , 0.        , 0.        , 0.        , 0.        ,\n",
              "        0.        , 0.        , 0.        ],\n",
              "       [0.        , 0.        , 0.        , 0.        , 0.        ,\n",
              "        0.        , 0.        , 0.        , 0.        , 0.        ,\n",
              "        0.09411765, 0.44705882, 0.86666667, 0.99215686, 0.99215686,\n",
              "        0.99215686, 0.99215686, 0.78823529, 0.30588235, 0.        ,\n",
              "        0.        , 0.        , 0.        , 0.        , 0.        ,\n",
              "        0.        , 0.        , 0.        ],\n",
              "       [0.        , 0.        , 0.        , 0.        , 0.        ,\n",
              "        0.        , 0.        , 0.        , 0.09019608, 0.25882353,\n",
              "        0.83529412, 0.99215686, 0.99215686, 0.99215686, 0.99215686,\n",
              "        0.77647059, 0.31764706, 0.00784314, 0.        , 0.        ,\n",
              "        0.        , 0.        , 0.        , 0.        , 0.        ,\n",
              "        0.        , 0.        , 0.        ],\n",
              "       [0.        , 0.        , 0.        , 0.        , 0.        ,\n",
              "        0.        , 0.07058824, 0.67058824, 0.85882353, 0.99215686,\n",
              "        0.99215686, 0.99215686, 0.99215686, 0.76470588, 0.31372549,\n",
              "        0.03529412, 0.        , 0.        , 0.        , 0.        ,\n",
              "        0.        , 0.        , 0.        , 0.        , 0.        ,\n",
              "        0.        , 0.        , 0.        ],\n",
              "       [0.        , 0.        , 0.        , 0.        , 0.21568627,\n",
              "        0.6745098 , 0.88627451, 0.99215686, 0.99215686, 0.99215686,\n",
              "        0.99215686, 0.95686275, 0.52156863, 0.04313725, 0.        ,\n",
              "        0.        , 0.        , 0.        , 0.        , 0.        ,\n",
              "        0.        , 0.        , 0.        , 0.        , 0.        ,\n",
              "        0.        , 0.        , 0.        ],\n",
              "       [0.        , 0.        , 0.        , 0.        , 0.53333333,\n",
              "        0.99215686, 0.99215686, 0.99215686, 0.83137255, 0.52941176,\n",
              "        0.51764706, 0.0627451 , 0.        , 0.        , 0.        ,\n",
              "        0.        , 0.        , 0.        , 0.        , 0.        ,\n",
              "        0.        , 0.        , 0.        , 0.        , 0.        ,\n",
              "        0.        , 0.        , 0.        ],\n",
              "       [0.        , 0.        , 0.        , 0.        , 0.        ,\n",
              "        0.        , 0.        , 0.        , 0.        , 0.        ,\n",
              "        0.        , 0.        , 0.        , 0.        , 0.        ,\n",
              "        0.        , 0.        , 0.        , 0.        , 0.        ,\n",
              "        0.        , 0.        , 0.        , 0.        , 0.        ,\n",
              "        0.        , 0.        , 0.        ],\n",
              "       [0.        , 0.        , 0.        , 0.        , 0.        ,\n",
              "        0.        , 0.        , 0.        , 0.        , 0.        ,\n",
              "        0.        , 0.        , 0.        , 0.        , 0.        ,\n",
              "        0.        , 0.        , 0.        , 0.        , 0.        ,\n",
              "        0.        , 0.        , 0.        , 0.        , 0.        ,\n",
              "        0.        , 0.        , 0.        ],\n",
              "       [0.        , 0.        , 0.        , 0.        , 0.        ,\n",
              "        0.        , 0.        , 0.        , 0.        , 0.        ,\n",
              "        0.        , 0.        , 0.        , 0.        , 0.        ,\n",
              "        0.        , 0.        , 0.        , 0.        , 0.        ,\n",
              "        0.        , 0.        , 0.        , 0.        , 0.        ,\n",
              "        0.        , 0.        , 0.        ]])"
            ]
          },
          "metadata": {},
          "execution_count": 10
        }
      ]
    },
    {
      "cell_type": "code",
      "source": [
        "model = Sequential()\n",
        "\n",
        "model.add(Flatten(input_shape=(28,28)))\n",
        "model.add(Dense(128,activation='relu'))\n",
        "model.add(Dense(32,activation='relu'))\n",
        "model.add(Dense(10,activation='softmax'))"
      ],
      "metadata": {
        "id": "iiDyP2B8VbVO"
      },
      "execution_count": 11,
      "outputs": []
    },
    {
      "cell_type": "code",
      "source": [
        "model.summary()"
      ],
      "metadata": {
        "colab": {
          "base_uri": "https://localhost:8080/"
        },
        "id": "hCSkgP52VeTV",
        "outputId": "29d08032-5414-44fe-d642-91d13ca23340"
      },
      "execution_count": 12,
      "outputs": [
        {
          "output_type": "stream",
          "name": "stdout",
          "text": [
            "Model: \"sequential\"\n",
            "_________________________________________________________________\n",
            " Layer (type)                Output Shape              Param #   \n",
            "=================================================================\n",
            " flatten (Flatten)           (None, 784)               0         \n",
            "                                                                 \n",
            " dense (Dense)               (None, 128)               100480    \n",
            "                                                                 \n",
            " dense_1 (Dense)             (None, 32)                4128      \n",
            "                                                                 \n",
            " dense_2 (Dense)             (None, 10)                330       \n",
            "                                                                 \n",
            "=================================================================\n",
            "Total params: 104938 (409.91 KB)\n",
            "Trainable params: 104938 (409.91 KB)\n",
            "Non-trainable params: 0 (0.00 Byte)\n",
            "_________________________________________________________________\n"
          ]
        }
      ]
    },
    {
      "cell_type": "code",
      "source": [
        "model.compile(loss='sparse_categorical_crossentropy',optimizer='Adam',metrics=['accuracy'])"
      ],
      "metadata": {
        "id": "YjLSim7VVgak"
      },
      "execution_count": 13,
      "outputs": []
    },
    {
      "cell_type": "code",
      "source": [
        "history = model.fit(X_train,y_train,epochs=25,validation_split=0.2)"
      ],
      "metadata": {
        "colab": {
          "base_uri": "https://localhost:8080/"
        },
        "id": "HHCCndSSVjLm",
        "outputId": "e0ecb962-428d-4073-d787-cd9b89bd09c2"
      },
      "execution_count": 14,
      "outputs": [
        {
          "output_type": "stream",
          "name": "stdout",
          "text": [
            "Epoch 1/25\n",
            "1500/1500 [==============================] - 9s 5ms/step - loss: 0.2803 - accuracy: 0.9179 - val_loss: 0.1470 - val_accuracy: 0.9561\n",
            "Epoch 2/25\n",
            "1500/1500 [==============================] - 9s 6ms/step - loss: 0.1206 - accuracy: 0.9641 - val_loss: 0.1152 - val_accuracy: 0.9653\n",
            "Epoch 3/25\n",
            "1500/1500 [==============================] - 17s 11ms/step - loss: 0.0824 - accuracy: 0.9739 - val_loss: 0.0983 - val_accuracy: 0.9691\n",
            "Epoch 4/25\n",
            "1500/1500 [==============================] - 15s 10ms/step - loss: 0.0623 - accuracy: 0.9806 - val_loss: 0.0978 - val_accuracy: 0.9711\n",
            "Epoch 5/25\n",
            "1500/1500 [==============================] - 8s 5ms/step - loss: 0.0474 - accuracy: 0.9849 - val_loss: 0.1018 - val_accuracy: 0.9712\n",
            "Epoch 6/25\n",
            "1500/1500 [==============================] - 8s 5ms/step - loss: 0.0386 - accuracy: 0.9879 - val_loss: 0.0884 - val_accuracy: 0.9735\n",
            "Epoch 7/25\n",
            "1500/1500 [==============================] - 8s 5ms/step - loss: 0.0309 - accuracy: 0.9906 - val_loss: 0.1124 - val_accuracy: 0.9707\n",
            "Epoch 8/25\n",
            "1500/1500 [==============================] - 10s 7ms/step - loss: 0.0268 - accuracy: 0.9913 - val_loss: 0.0924 - val_accuracy: 0.9747\n",
            "Epoch 9/25\n",
            "1500/1500 [==============================] - 9s 6ms/step - loss: 0.0225 - accuracy: 0.9926 - val_loss: 0.1089 - val_accuracy: 0.9725\n",
            "Epoch 10/25\n",
            "1500/1500 [==============================] - 7s 5ms/step - loss: 0.0206 - accuracy: 0.9931 - val_loss: 0.1178 - val_accuracy: 0.9717\n",
            "Epoch 11/25\n",
            "1500/1500 [==============================] - 9s 6ms/step - loss: 0.0167 - accuracy: 0.9942 - val_loss: 0.1134 - val_accuracy: 0.9722\n",
            "Epoch 12/25\n",
            "1500/1500 [==============================] - 8s 5ms/step - loss: 0.0152 - accuracy: 0.9951 - val_loss: 0.1043 - val_accuracy: 0.9748\n",
            "Epoch 13/25\n",
            "1500/1500 [==============================] - 7s 5ms/step - loss: 0.0144 - accuracy: 0.9949 - val_loss: 0.1169 - val_accuracy: 0.9740\n",
            "Epoch 14/25\n",
            "1500/1500 [==============================] - 8s 5ms/step - loss: 0.0136 - accuracy: 0.9954 - val_loss: 0.1176 - val_accuracy: 0.9746\n",
            "Epoch 15/25\n",
            "1500/1500 [==============================] - 8s 5ms/step - loss: 0.0125 - accuracy: 0.9960 - val_loss: 0.1169 - val_accuracy: 0.9748\n",
            "Epoch 16/25\n",
            "1500/1500 [==============================] - 8s 5ms/step - loss: 0.0109 - accuracy: 0.9966 - val_loss: 0.1363 - val_accuracy: 0.9739\n",
            "Epoch 17/25\n",
            "1500/1500 [==============================] - 8s 6ms/step - loss: 0.0105 - accuracy: 0.9963 - val_loss: 0.1209 - val_accuracy: 0.9762\n",
            "Epoch 18/25\n",
            "1500/1500 [==============================] - 7s 5ms/step - loss: 0.0115 - accuracy: 0.9961 - val_loss: 0.1411 - val_accuracy: 0.9737\n",
            "Epoch 19/25\n",
            "1500/1500 [==============================] - 8s 5ms/step - loss: 0.0105 - accuracy: 0.9964 - val_loss: 0.1261 - val_accuracy: 0.9755\n",
            "Epoch 20/25\n",
            "1500/1500 [==============================] - 8s 5ms/step - loss: 0.0073 - accuracy: 0.9977 - val_loss: 0.1440 - val_accuracy: 0.9735\n",
            "Epoch 21/25\n",
            "1500/1500 [==============================] - 9s 6ms/step - loss: 0.0085 - accuracy: 0.9971 - val_loss: 0.1740 - val_accuracy: 0.9700\n",
            "Epoch 22/25\n",
            "1500/1500 [==============================] - 8s 6ms/step - loss: 0.0086 - accuracy: 0.9970 - val_loss: 0.1371 - val_accuracy: 0.9765\n",
            "Epoch 23/25\n",
            "1500/1500 [==============================] - 7s 5ms/step - loss: 0.0073 - accuracy: 0.9979 - val_loss: 0.1421 - val_accuracy: 0.9768\n",
            "Epoch 24/25\n",
            "1500/1500 [==============================] - 8s 5ms/step - loss: 0.0068 - accuracy: 0.9976 - val_loss: 0.1477 - val_accuracy: 0.9742\n",
            "Epoch 25/25\n",
            "1500/1500 [==============================] - 9s 6ms/step - loss: 0.0098 - accuracy: 0.9967 - val_loss: 0.1417 - val_accuracy: 0.9764\n"
          ]
        }
      ]
    },
    {
      "cell_type": "code",
      "source": [
        "y_prob = model.predict(X_test)"
      ],
      "metadata": {
        "colab": {
          "base_uri": "https://localhost:8080/"
        },
        "id": "tPiCTy8PVkwe",
        "outputId": "96be27fe-d18d-457c-faa2-5368e73a4856"
      },
      "execution_count": 15,
      "outputs": [
        {
          "output_type": "stream",
          "name": "stdout",
          "text": [
            "313/313 [==============================] - 1s 3ms/step\n"
          ]
        }
      ]
    },
    {
      "cell_type": "code",
      "source": [
        "y_pred = y_prob.argmax(axis=1)"
      ],
      "metadata": {
        "id": "9Yj2HuG1VoCw"
      },
      "execution_count": 17,
      "outputs": []
    },
    {
      "cell_type": "code",
      "source": [
        "from sklearn.metrics import accuracy_score\n",
        "accuracy_score(y_test,y_pred)"
      ],
      "metadata": {
        "colab": {
          "base_uri": "https://localhost:8080/"
        },
        "id": "v_v1BpiuVp7m",
        "outputId": "abcd42b9-6ce2-42d7-d56a-450576a87e93"
      },
      "execution_count": 18,
      "outputs": [
        {
          "output_type": "execute_result",
          "data": {
            "text/plain": [
              "0.9757"
            ]
          },
          "metadata": {},
          "execution_count": 18
        }
      ]
    },
    {
      "cell_type": "code",
      "source": [
        "plt.plot(history.history['loss'])\n",
        "plt.plot(history.history['val_loss'])"
      ],
      "metadata": {
        "colab": {
          "base_uri": "https://localhost:8080/",
          "height": 447
        },
        "id": "qBQzfihPVp3M",
        "outputId": "b4a31b16-beab-493b-bd62-da3dfaea7aca"
      },
      "execution_count": 19,
      "outputs": [
        {
          "output_type": "execute_result",
          "data": {
            "text/plain": [
              "[<matplotlib.lines.Line2D at 0x7f8ec2285960>]"
            ]
          },
          "metadata": {},
          "execution_count": 19
        },
        {
          "output_type": "display_data",
          "data": {
            "text/plain": [
              "<Figure size 640x480 with 1 Axes>"
            ],
            "image/png": "[encoded data removed]"
          },
          "metadata": {}
        }
      ]
    },
    {
      "cell_type": "code",
      "source": [
        "plt.plot(history.history['accuracy'])\n",
        "plt.plot(history.history['val_accuracy'])"
      ],
      "metadata": {
        "colab": {
          "base_uri": "https://localhost:8080/",
          "height": 447
        },
        "id": "ZmsRwjS-Vt-r",
        "outputId": "22b94715-5e9b-4a9e-c674-01af377822c9"
      },
      "execution_count": 20,
      "outputs": [
        {
          "output_type": "execute_result",
          "data": {
            "text/plain": [
              "[<matplotlib.lines.Line2D at 0x7f8ec22ff220>]"
            ]
          },
          "metadata": {},
          "execution_count": 20
        },
        {
          "output_type": "display_data",
          "data": {
            "text/plain": [
              "<Figure size 640x480 with 1 Axes>"
            ],
            "image/png": "[encoded data removed]"
          },
          "metadata": {}
        }
      ]
    },
    {
      "cell_type": "code",
      "source": [
        "plt.imshow(X_test[1])"
      ],
      "metadata": {
        "colab": {
          "base_uri": "https://localhost:8080/",
          "height": 447
        },
        "id": "baB4ACdeVwP-",
        "outputId": "727f3d44-dd83-4f33-a5f9-50893e6e1fdd"
      },
      "execution_count": 21,
      "outputs": [
        {
          "output_type": "execute_result",
          "data": {
            "text/plain": [
              "<matplotlib.image.AxesImage at 0x7f8ec1f80f40>"
            ]
          },
          "metadata": {},
          "execution_count": 21
        },
        {
          "output_type": "display_data",
          "data": {
            "text/plain": [
              "<Figure size 640x480 with 1 Axes>"
            ],
            "image/png": "[encoded data removed]"
          },
          "metadata": {}
        }
      ]
    },
    {
      "cell_type": "code",
      "source": [
        "model.predict(X_test[1].reshape(1,28,28)).argmax(axis=1)"
      ],
      "metadata": {
        "colab": {
          "base_uri": "https://localhost:8080/"
        },
        "id": "Dp4OQMx3Wr2P",
        "outputId": "d5eecc7f-9841-4ed0-d0af-cdaa0962b7f4"
      },
      "execution_count": 22,
      "outputs": [
        {
          "output_type": "stream",
          "name": "stdout",
          "text": [
            "1/1 [==============================] - 0s 36ms/step\n"
          ]
        },
        {
          "output_type": "execute_result",
          "data": {
            "text/plain": [
              "array([2])"
            ]
          },
          "metadata": {},
          "execution_count": 22
        }
      ]
    },
    {
      "cell_type": "code",
      "source": [],
      "metadata": {
        "id": "-LRvtqaHWvt2"
      },
      "execution_count": null,
      "outputs": []
    }
  ]
}